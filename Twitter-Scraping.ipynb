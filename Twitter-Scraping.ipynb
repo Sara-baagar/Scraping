{
 "cells": [
  {
   "cell_type": "code",
   "execution_count": 1,
   "id": "9617c8f5-0859-43fd-92c5-a60ee9b935c0",
   "metadata": {},
   "outputs": [],
   "source": [
    "import requests\n",
    "from bs4 import BeautifulSoup\n",
    "import time\n",
    "from datetime import datetime, timedelta\n",
    "\n",
    "def scrape_tweets_for_symbol(accounts, symbol, interval):\n",
    "    headers = {\n",
    "        \"User-Agent\": \"Mozilla/5.0 (Windows NT 10.0; Win64; x64) AppleWebKit/537.36 (KHTML, like Gecko) Chrome/91.0.4472.124 Safari/537.36\"\n",
    "    }\n",
    "    \n",
    "    def fetch_tweets(username):\n",
    "        # Construct the URL for the user's Twitter page\n",
    "        url = f\"https://twitter.com/{username}\"\n",
    "        \n",
    "        # Send an HTTP GET request to the URL\n",
    "        response = requests.get(url, headers=headers)\n",
    "        \n",
    "        # Check if the request was successful\n",
    "        if response.status_code != 200:\n",
    "            print(f\"Failed to retrieve tweets for {username}: {response.status_code}\")\n",
    "            return []\n",
    "        \n",
    "        # Parse the HTML content of the page\n",
    "        soup = BeautifulSoup(response.text, 'html.parser')\n",
    "        \n",
    "        # Find all tweet elements\n",
    "        tweets = soup.find_all('div', {'data-testid': 'tweet'})\n",
    "        \n",
    "        # Extract the text content of each tweet\n",
    "        tweet_texts = [tweet.get_text() for tweet in tweets]\n",
    "        \n",
    "        return tweet_texts\n",
    "    \n",
    "    def count_symbol_mentions(tweets, symbol):\n",
    "        # Initialize a counter for the symbol mentions\n",
    "        count = 0\n",
    "        for tweet in tweets:\n",
    "            # Check if the symbol is mentioned in the tweet\n",
    "            if symbol in tweet:\n",
    "                count += 1\n",
    "        return count\n",
    "    \n",
    "    # Record the start time of the scraping session\n",
    "    start_time = datetime.now()\n",
    "    \n",
    "    while True:\n",
    "        # Initialize a counter for the symbol mentions\n",
    "        symbol_mentions = 0\n",
    "        print(f\"Scraping tweets for symbol {symbol}...\")\n",
    "        \n",
    "        for account in accounts:\n",
    "            # Extract the username from the URL\n",
    "            username = account.split('/')[-1]\n",
    "            \n",
    "            # Fetch tweets from the user's timeline\n",
    "            tweets = fetch_tweets(username)\n",
    "            \n",
    "            # Count the number of symbol mentions in the tweets\n",
    "            symbol_mentions += count_symbol_mentions(tweets, symbol)\n",
    "        \n",
    "        # Calculate the elapsed time since the start of the session\n",
    "        elapsed_time = (datetime.now() - start_time).total_seconds()\n",
    "        \n",
    "        # Print the result of the scraping session\n",
    "        print(f\"'{symbol}' was mentioned '{symbol_mentions}' times in the last '{int(elapsed_time // 60)}' minutes.\")\n",
    "        \n",
    "        # Wait for the specified interval before the next scraping session\n",
    "        print(f\"Waiting for {interval} seconds before the next scraping session...\")\n",
    "        time.sleep(interval)\n",
    "        \n",
    "        # Reset the start time for the next interval\n",
    "        start_time = datetime.now()"
   ]
  },
  {
   "cell_type": "code",
   "execution_count": null,
   "id": "4864a8d9-39a6-4c95-8048-2bdea5081b36",
   "metadata": {},
   "outputs": [
    {
     "name": "stdout",
     "output_type": "stream",
     "text": [
      "Scraping tweets for symbol $TSLA...\n",
      "'$TSLA' was mentioned '0' times in the last '0' minutes.\n",
      "Waiting for 120 seconds before the next scraping session...\n"
     ]
    }
   ],
   "source": [
    "# Example1\n",
    "accounts = [\n",
    "    'https://twitter.com/Mr_Derivatives',\n",
    "    'https://twitter.com/warrior_0719',\n",
    "    'https://twitter.com/ChartingProdigy',\n",
    "    'https://twitter.com/allstarcharts'\n",
    "    'https://twitter.com/yuriymatso',\n",
    "    'https://twitter.com/TriggerTrades',\n",
    "    'https://twitter.com/AdamMancini4', \n",
    "    'https://twitter.com/CordovaTrades', \n",
    "    'https://twitter.com/Barchart',\n",
    "    'https://twitter.com/RoyLMattox'\n",
    "]\n",
    "\n",
    "symbol = '$TSLA'\n",
    "interval = 120  # 2 minutes\n",
    "\n",
    "scrape_tweets_for_symbol(accounts, symbol, interval)"
   ]
  },
  {
   "cell_type": "code",
   "execution_count": null,
   "id": "e1cbed01-60ad-4b58-88da-de66d1c3c340",
   "metadata": {},
   "outputs": [
    {
     "name": "stdout",
     "output_type": "stream",
     "text": [
      "Scraping tweets for symbol $APPLE...\n",
      "'$APPLE' was mentioned '0' times in the last '0' minutes.\n",
      "Waiting for 60 seconds before the next scraping session...\n"
     ]
    }
   ],
   "source": [
    "# Example2\n",
    "accounts = [\n",
    "    'https://twitter.com/Mr_Derivatives',\n",
    "    'https://twitter.com/warrior_0719',\n",
    "    'https://twitter.com/ChartingProdigy',\n",
    "    'https://twitter.com/allstarcharts'\n",
    "    'https://twitter.com/yuriymatso',\n",
    "    'https://twitter.com/TriggerTrades',\n",
    "    'https://twitter.com/AdamMancini4', \n",
    "    'https://twitter.com/CordovaTrades', \n",
    "    'https://twitter.com/Barchart',\n",
    "    'https://twitter.com/RoyLMattox'\n",
    "]\n",
    "\n",
    "symbol = '$APPLE'\n",
    "interval = 60  # 1 minute\n",
    "\n",
    "scrape_tweets_for_symbol(accounts, symbol, interval)"
   ]
  },
  {
   "cell_type": "code",
   "execution_count": null,
   "id": "f7f74929-1e6f-46ff-b4ee-585164f76a20",
   "metadata": {},
   "outputs": [],
   "source": []
  }
 ],
 "metadata": {
  "kernelspec": {
   "display_name": "Python 3 (ipykernel)",
   "language": "python",
   "name": "python3"
  },
  "language_info": {
   "codemirror_mode": {
    "name": "ipython",
    "version": 3
   },
   "file_extension": ".py",
   "mimetype": "text/x-python",
   "name": "python",
   "nbconvert_exporter": "python",
   "pygments_lexer": "ipython3",
   "version": "3.11.7"
  }
 },
 "nbformat": 4,
 "nbformat_minor": 5
}
